{
 "cells": [
  {
   "cell_type": "code",
   "execution_count": 3,
   "id": "496f9a90",
   "metadata": {},
   "outputs": [
    {
     "name": "stdout",
     "output_type": "stream",
     "text": [
      "*****BILL******\n",
      "enter your items to add or tap q for end: rice\n",
      "quan: 2\n",
      "rate: 500\n",
      "enter your items to add or tap q for end: wheat\n",
      "quan: 2\n",
      "rate: 450\n",
      "enter your items to add or tap q for end: q\n",
      "******* RECIPTS *******\n",
      "December 04, 2022\n",
      "   items  quantity  rate  total\n",
      "0   rice         2   500   1000\n",
      "1  wheat         2   450    900\n",
      "\n",
      "\n",
      "TOTAL AMOUNT TO PAY: 1900 \n"
     ]
    }
   ],
   "source": [
    "print(\"*****BILL******\")\n",
    "import datetime\n",
    "today= datetime.datetime.today()\n",
    "l = []\n",
    "m = []\n",
    "n = []\n",
    "o = []\n",
    "sum = 0\n",
    "while (True):\n",
    "    items = input(\"enter your items to add or tap q for end: \")\n",
    "    if items != \"q\":\n",
    "        l.append(items)\n",
    "        quantity = int(input(\"quan: \"))\n",
    "        m.append(quantity)\n",
    "        rate = int(input(\"rate: \"))\n",
    "        n.append(rate)\n",
    "        subtotal = quantity * rate\n",
    "        o.append(subtotal)\n",
    "        sum = sum+subtotal\n",
    "    else:\n",
    "        print(\"******* RECIPTS *******\")\n",
    "        print(f\"{today:%B %d, %Y}\")\n",
    "        d = {\"items\": l, \"quantity\": m, \"rate\": n, \"total\": o}\n",
    "        import pandas as pd\n",
    "        df = pd.DataFrame(d)\n",
    "        print(df)\n",
    "        print(\"\")\n",
    "        print(\"\")\n",
    "\n",
    "        print(f\"TOTAL AMOUNT TO PAY: {sum} \")\n",
    "        break"
   ]
  }
 ],
 "metadata": {
  "kernelspec": {
   "display_name": "Python 3 (ipykernel)",
   "language": "python",
   "name": "python3"
  },
  "language_info": {
   "codemirror_mode": {
    "name": "ipython",
    "version": 3
   },
   "file_extension": ".py",
   "mimetype": "text/x-python",
   "name": "python",
   "nbconvert_exporter": "python",
   "pygments_lexer": "ipython3",
   "version": "3.9.13"
  }
 },
 "nbformat": 4,
 "nbformat_minor": 5
}
