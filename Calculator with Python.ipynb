{
 "cells": [
  {
   "cell_type": "code",
   "execution_count": null,
   "id": "c1923f58",
   "metadata": {},
   "outputs": [],
   "source": [
    "import math\n",
    "add = lambda x,y:x+y\n",
    "sub = lambda x,y:x-y\n",
    "multiply =  lambda x,y:x*y\n",
    "divide =  lambda x,y:x%y\n",
    "exponent = lambda x,y:x**y\n",
    "while True:\n",
    "    x =float(input(\"First number = \"))\n",
    "    operation = input(\"Choose the required operation for x and y from +,-,,%,*,!: \")\n",
    "    if (operation == \"+\"):\n",
    "        x = float(x)\n",
    "        y = float(input(\"Second number = \"))\n",
    "        addition = add(x,y)\n",
    "        print(\"Addition of x and y =\", addition)\n",
    "    elif (operation == \"-\"):\n",
    "        x = float(x)\n",
    "        y = float(input(\"Second number = \"))\n",
    "        subtraction = sub(x,y)\n",
    "        print(\"Subtraction of x and y =\", subtraction)\n",
    "    elif (operation == \"*\"):\n",
    "        x = float(x)\n",
    "        y = float(input(\"Second number = \"))\n",
    "        multiplication = multiply(x,y)\n",
    "        print(\"Multiplication of x and y =\", multiplication)\n",
    "    elif (operation == \"%\"):\n",
    "        x = float(x)\n",
    "        y = float(input(\"Second number = \"))\n",
    "        division = divide(x,y)\n",
    "        print(\"Divison of x and y =\", division)\n",
    "    elif (operation == \"**\"):\n",
    "        x = float(x)\n",
    "        y = float(input(\"Second number = \"))\n",
    "        exponential = exponent(x,y)\n",
    "        print(x, \"raised to power\", y, \"=\", exponential)\n",
    "    elif (operation == \"!\"):\n",
    "        if (x-math.floor(x)!=0):\n",
    "            print(\"we can't perform this operation on entered value.try again\")\n",
    "            continue\n",
    "        else:\n",
    "            x = int(x)\n",
    "            i=1\n",
    "            fact=1\n",
    "            for i in range(1,x+1):\n",
    "                fact=fact*i\n",
    "                i=i+1\n",
    "            print(\"Factorial of\",x,\"=\",fact)\n"
   ]
  }
 ],
 "metadata": {
  "kernelspec": {
   "display_name": "Python 3 (ipykernel)",
   "language": "python",
   "name": "python3"
  },
  "language_info": {
   "codemirror_mode": {
    "name": "ipython",
    "version": 3
   },
   "file_extension": ".py",
   "mimetype": "text/x-python",
   "name": "python",
   "nbconvert_exporter": "python",
   "pygments_lexer": "ipython3",
   "version": "3.9.13"
  }
 },
 "nbformat": 4,
 "nbformat_minor": 5
}
