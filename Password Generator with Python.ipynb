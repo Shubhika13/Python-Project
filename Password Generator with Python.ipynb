{
 "cells": [
  {
   "cell_type": "code",
   "execution_count": null,
   "id": "364ddf2c",
   "metadata": {},
   "outputs": [],
   "source": [
    "import random\n",
    "myList = [chr(chNum)for chNum in list(range(ord('a'),ord('z')+1))]\n",
    "print(myList)\n",
    "list=[chr(chNum)for chNum in list(range(ord('A'),ord('Z')+1))]\n",
    "print(list)\n",
    "\n",
    "strng = \"\"\n",
    "for i in range(97,123):\n",
    "    strng = strng + chr(i)\n",
    "print(strng)\n",
    "\n",
    "letters = ['a', 'b', 'c', 'd', 'e', 'f', 'g', 'h', 'i', 'j', 'k', 'l', 'm', 'n', 'o', 'p', 'q', 'r', 's', 't', 'u', 'v', 'w', 'x', 'y', 'z', 'A', 'B', 'C', 'D', 'E ', 'F', 'G', 'H', 'I', 'J', 'K', 'L', 'M', 'N', 'O', 'P', 'Q', 'R', 'S', 'T', 'U', 'V', 'W', 'X', 'Y', 'Z']\n",
    "numbers = ['0', '1', '2', '3', '4', '5', '6', '7', '8', '9']\n",
    "symbols = ['@','#','!','%','&']\n",
    "\n",
    "print(\"Welcome to the  Password Generator!\")\n",
    "nr_letters= int(input(\"How many letters would you like in your password?\\n\"))\n",
    "nr_symbols = int(input(f\"How many symbols would you like?\\n\"))\n",
    "nr_numbers = int(input(\"How many numbers would you like?\\n\"))\n",
    "\n",
    "passwordlist = []\n",
    "for char in range(1, nr_letters+1) :\n",
    "    passwordlist += random.choice(letters)\n",
    "for char in range(1,nr_symbols + 1) :\n",
    "    passwordlist += random.choice(symbols)\n",
    "for char in range(1,nr_numbers + 1) :\n",
    "    passwordlist += random.choice(numbers)\n",
    "random.shuffle(passwordlist)\n",
    "password = \"\"\n",
    "for char in passwordlist :\n",
    "    password += char\n",
    "print(password)"
   ]
  }
 ],
 "metadata": {
  "kernelspec": {
   "display_name": "Python 3 (ipykernel)",
   "language": "python",
   "name": "python3"
  },
  "language_info": {
   "codemirror_mode": {
    "name": "ipython",
    "version": 3
   },
   "file_extension": ".py",
   "mimetype": "text/x-python",
   "name": "python",
   "nbconvert_exporter": "python",
   "pygments_lexer": "ipython3",
   "version": "3.9.13"
  }
 },
 "nbformat": 4,
 "nbformat_minor": 5
}
